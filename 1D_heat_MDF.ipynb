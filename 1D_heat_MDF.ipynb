{
 "cells": [
  {
   "cell_type": "markdown",
   "metadata": {},
   "source": [
    "$$\n",
    "\\frac{\\partial u}{\\partial t} = \\alpha \\frac{\\partial^2 u}{\\partial x^2}\n",
    "$$\n",
    "$$\n",
    "u(x,0) = f(x) = e^{-x^2}, \\quad x \\in [-5,5]\n",
    "$$\n",
    "\n",
    "$$\n",
    "u(-5,t) = g_1(t), \\quad u(5,t) = g_2(t), \\quad t \\geq 0\n",
    "$$"
   ]
  },
  {
   "cell_type": "code",
   "execution_count": 1,
   "metadata": {
    "ExecuteTime": {
     "end_time": "2021-10-05T10:15:05.492279Z",
     "start_time": "2021-10-05T10:15:04.943457Z"
    }
   },
   "outputs": [],
   "source": [
    "# =============\n",
    "# CARGA DE LIBRERIAS\n",
    "\n",
    "import matplotlib.pyplot as plt\n",
    "import numpy as np\n",
    "import scipy.sparse as sp\n",
    "import scipy.sparse.linalg as spla"
   ]
  },
  {
   "cell_type": "code",
   "execution_count": null,
   "metadata": {},
   "outputs": [
    {
     "data": {
      "image/png": "[encoded data removed]",
      "text/plain": [
       "<Figure size 640x480 with 1 Axes>"
      ]
     },
     "metadata": {},
     "output_type": "display_data"
    }
   ],
   "source": [
    "# RESOLUCION MEDIANTE MDF\n",
    "\n",
    "# Parámetros\n",
    "eI = -5\n",
    "eD = 5\n",
    "T = 10\n",
    "\n",
    "# Función inicial\n",
    "def uCero(x):\n",
    "    return np.exp(-x**2)\n",
    "\n",
    "def f(x, t):\n",
    "    return 0 * t * x\n",
    "\n",
    "def alpha(t):\n",
    "    return uCero(eI)\n",
    "\n",
    "def beta(t):\n",
    "    return uCero(eD)\n",
    "\n",
    "N = 19\n",
    "h = (eD - eI) / (N + 1)\n",
    "x = np.linspace(eI, eD, N + 2)\n",
    "\n",
    "plt.ion()\n",
    "fig, ax = plt.subplots()\n",
    "ax.set_xlim(eI, eD)\n",
    "ax.set_ylim(0, 1)\n",
    "line, = ax.plot(x, uCero(x), label=\"Iteración 0\")\n",
    "legend = ax.legend()\n",
    "\n",
    "L = 5000\n",
    "tau = T / L\n",
    "t = np.linspace(0, T, L + 1)\n",
    "\n",
    "lambda_ = tau / h**2\n",
    "\n",
    "I = sp.eye(N, N)\n",
    "E = sp.diags([1], offsets=[1], shape=(N, N))\n",
    "D = 2 * I - E - E.T\n",
    "\n",
    "theta = 0\n",
    "A = I + theta * lambda_ * D\n",
    "B = I - (1 - theta) * lambda_ * D\n",
    "\n",
    "xInt = x[1:-1]\n",
    "u0 = uCero(xInt)\n",
    "b0 = tau * f(xInt, 0)\n",
    "b0[0] += lambda_ * alpha(0)\n",
    "b0[-1] += lambda_ * beta(0)\n",
    "\n",
    "for k in range(1, L + 1):\n",
    "    b1 = tau * f(xInt, k * tau)\n",
    "    b1[0] += lambda_ * alpha(k * tau)\n",
    "    b1[-1] += lambda_ * beta(k * tau)\n",
    "    \n",
    "    b = B @ u0 + theta * b1 + (1 - theta) * b0\n",
    "    u1 = spla.spsolve(A, b)\n",
    "    \n",
    "    b0 = b1\n",
    "    u0 = u1\n",
    "    \n",
    "    if k % 100 == 0: # Cambiar paso representacion\n",
    "        line.set_ydata(np.concatenate(([alpha(k * tau)], u0, [beta(k * tau)])))\n",
    "        line.set_label(f\"Iteración {k}/{L}\")\n",
    "        legend.remove()\n",
    "        legend = ax.legend()\n",
    "        plt.pause(0.1)\n",
    "\n",
    "plt.ioff()\n",
    "plt.show()"
   ]
  }
 ],
 "metadata": {
  "kernelspec": {
   "display_name": "TFGM",
   "language": "python",
   "name": "python3"
  },
  "language_info": {
   "codemirror_mode": {
    "name": "ipython",
    "version": 3
   },
   "file_extension": ".py",
   "mimetype": "text/x-python",
   "name": "python",
   "nbconvert_exporter": "python",
   "pygments_lexer": "ipython3",
   "version": "3.13.3"
  },
  "toc": {
   "base_numbering": 1,
   "nav_menu": {},
   "number_sections": true,
   "sideBar": true,
   "skip_h1_title": false,
   "title_cell": "Table of Contents",
   "title_sidebar": "Contents",
   "toc_cell": false,
   "toc_position": {},
   "toc_section_display": true,
   "toc_window_display": false
  }
 },
 "nbformat": 4,
 "nbformat_minor": 2
}
